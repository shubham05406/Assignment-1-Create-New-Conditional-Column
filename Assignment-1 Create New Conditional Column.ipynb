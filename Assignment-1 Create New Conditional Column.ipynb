{
 "cells": [
  {
   "cell_type": "code",
   "execution_count": 1,
   "id": "94a41273",
   "metadata": {},
   "outputs": [],
   "source": [
    "Create New Cond Col"
   ]
  },
  {
   "cell_type": "code",
   "execution_count": null,
   "id": "fc6837cc",
   "metadata": {},
   "outputs": [],
   "source": [
    "import pandas as pd\n",
    "\n",
    "# Create a sample DataFrame\n",
    "data = {'sales': [1000, 800, 1200, 1500],\n",
    "        'profit': [500, 400, 600, 750],\n",
    "        'ship_mode': ['Same Day', 'First Class', 'Standard Class', 'Second Class']}\n",
    "df = pd.DataFrame(data)\n",
    "\n",
    "# Define a function to calculate the surcharge\n",
    "def calculate_surcharge(ship_mode):\n",
    "    if ship_mode == \"Same Day\":\n",
    "        return 0.2\n",
    "    elif ship_mode == \"First Class\":\n",
    "        return 0.1\n",
    "    elif ship_mode == \"Standard Class\":\n",
    "        return 0.05\n",
    "    else:\n",
    "        return 0\n",
    "\n",
    "df['surcharge'] = df['ship_mode'].apply(calculate_surcharge)\n",
    "\n",
    "\n",
    "df['total_cost'] = (df['sales'] - df['profit']) * (1 + df['surcharge')\n",
    "\n",
    "\n",
    "print(df)\n"
   ]
  }
 ],
 "metadata": {
  "kernelspec": {
   "display_name": "Python 3 (ipykernel)",
   "language": "python",
   "name": "python3"
  },
  "language_info": {
   "codemirror_mode": {
    "name": "ipython",
    "version": 3
   },
   "file_extension": ".py",
   "mimetype": "text/x-python",
   "name": "python",
   "nbconvert_exporter": "python",
   "pygments_lexer": "ipython3",
   "version": "3.9.12"
  }
 },
 "nbformat": 4,
 "nbformat_minor": 5
}
